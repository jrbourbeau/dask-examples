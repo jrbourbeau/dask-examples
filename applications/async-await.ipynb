{
 "cells": [
  {
   "cell_type": "markdown",
   "metadata": {},
   "source": [
    "Async/Await and Non-Blocking Execution\n",
    "=======================================\n",
    "\n",
    "Dask integrates natively with concurrent applications using the [Tornado](https://www.tornadoweb.org/en/stable/) or [Asyncio](https://docs.python.org/3/library/asyncio.html) frameworks, and can make use of Python's `async` and `await` keywords.\n",
    "\n",
    "This example shows a small example how how to start up a Dask Client in asynchronous mode."
   ]
  },
  {
   "cell_type": "markdown",
   "metadata": {},
   "source": [
    "The `asynchronous=True` parameter\n",
    "---------------------------------\n",
    "\n",
    "Dask LocalCluster and Client objects can operate in async-await mode if you pass the `asynchronous=True` parameter."
   ]
  },
  {
   "cell_type": "code",
   "execution_count": 1,
   "metadata": {
    "execution": {
     "iopub.execute_input": "2021-01-27T16:14:54.580060Z",
     "iopub.status.busy": "2021-01-27T16:14:54.579457Z",
     "iopub.status.idle": "2021-01-27T16:14:58.111200Z",
     "shell.execute_reply": "2021-01-27T16:14:58.110266Z"
    }
   },
   "outputs": [],
   "source": [
    "from dask.distributed import Client\n",
    "client = await Client(asynchronous=True)"
   ]
  },
  {
   "cell_type": "code",
   "execution_count": 2,
   "metadata": {
    "execution": {
     "iopub.execute_input": "2021-01-27T16:14:58.119740Z",
     "iopub.status.busy": "2021-01-27T16:14:58.119277Z",
     "iopub.status.idle": "2021-01-27T16:14:58.130130Z",
     "shell.execute_reply": "2021-01-27T16:14:58.130773Z"
    }
   },
   "outputs": [
    {
     "data": {
      "text/html": [
       "<b>Future: inc</b> <font color=\"gray\">status: </font><font color=\"black\">pending</font>, <font color=\"gray\">key: </font>inc-5bfc82c09dc4b28d284ae023ec968234"
      ],
      "text/plain": [
       "<Future: pending, key: inc-5bfc82c09dc4b28d284ae023ec968234>"
      ]
     },
     "execution_count": 2,
     "metadata": {},
     "output_type": "execute_result"
    }
   ],
   "source": [
    "def inc(x: int) -> int:\n",
    "    return x + 1\n",
    "\n",
    "future = client.submit(inc, 10)\n",
    "future"
   ]
  },
  {
   "cell_type": "code",
   "execution_count": 3,
   "metadata": {
    "execution": {
     "iopub.execute_input": "2021-01-27T16:14:58.134337Z",
     "iopub.status.busy": "2021-01-27T16:14:58.132705Z",
     "iopub.status.idle": "2021-01-27T16:14:58.147648Z",
     "shell.execute_reply": "2021-01-27T16:14:58.146579Z"
    }
   },
   "outputs": [
    {
     "data": {
      "text/plain": [
       "11"
      ]
     },
     "execution_count": 3,
     "metadata": {},
     "output_type": "execute_result"
    }
   ],
   "source": [
    "await future"
   ]
  },
  {
   "cell_type": "markdown",
   "metadata": {},
   "source": [
    "Collections\n",
    "-----------\n",
    "\n",
    "Note that blocking operations like the `.compute()` method aren't ok to use in asynchronous mode.  Instead you'll have to use the `Client.compute` method."
   ]
  },
  {
   "cell_type": "code",
   "execution_count": 4,
   "metadata": {
    "execution": {
     "iopub.execute_input": "2021-01-27T16:14:58.150398Z",
     "iopub.status.busy": "2021-01-27T16:14:58.149493Z",
     "iopub.status.idle": "2021-01-27T16:14:58.380498Z",
     "shell.execute_reply": "2021-01-27T16:14:58.381144Z"
    }
   },
   "outputs": [
    {
     "data": {
      "text/html": [
       "<div><strong>Dask DataFrame Structure:</strong></div>\n",
       "<div>\n",
       "<style scoped>\n",
       "    .dataframe tbody tr th:only-of-type {\n",
       "        vertical-align: middle;\n",
       "    }\n",
       "\n",
       "    .dataframe tbody tr th {\n",
       "        vertical-align: top;\n",
       "    }\n",
       "\n",
       "    .dataframe thead th {\n",
       "        text-align: right;\n",
       "    }\n",
       "</style>\n",
       "<table border=\"1\" class=\"dataframe\">\n",
       "  <thead>\n",
       "    <tr style=\"text-align: right;\">\n",
       "      <th></th>\n",
       "      <th>id</th>\n",
       "      <th>name</th>\n",
       "      <th>x</th>\n",
       "      <th>y</th>\n",
       "    </tr>\n",
       "    <tr>\n",
       "      <th>npartitions=30</th>\n",
       "      <th></th>\n",
       "      <th></th>\n",
       "      <th></th>\n",
       "      <th></th>\n",
       "    </tr>\n",
       "  </thead>\n",
       "  <tbody>\n",
       "    <tr>\n",
       "      <th>2000-01-01</th>\n",
       "      <td>int64</td>\n",
       "      <td>object</td>\n",
       "      <td>float64</td>\n",
       "      <td>float64</td>\n",
       "    </tr>\n",
       "    <tr>\n",
       "      <th>2000-01-02</th>\n",
       "      <td>...</td>\n",
       "      <td>...</td>\n",
       "      <td>...</td>\n",
       "      <td>...</td>\n",
       "    </tr>\n",
       "    <tr>\n",
       "      <th>...</th>\n",
       "      <td>...</td>\n",
       "      <td>...</td>\n",
       "      <td>...</td>\n",
       "      <td>...</td>\n",
       "    </tr>\n",
       "    <tr>\n",
       "      <th>2000-01-30</th>\n",
       "      <td>...</td>\n",
       "      <td>...</td>\n",
       "      <td>...</td>\n",
       "      <td>...</td>\n",
       "    </tr>\n",
       "    <tr>\n",
       "      <th>2000-01-31</th>\n",
       "      <td>...</td>\n",
       "      <td>...</td>\n",
       "      <td>...</td>\n",
       "      <td>...</td>\n",
       "    </tr>\n",
       "  </tbody>\n",
       "</table>\n",
       "</div>\n",
       "<div>Dask Name: make-timeseries, 30 tasks</div>"
      ],
      "text/plain": [
       "Dask DataFrame Structure:\n",
       "                   id    name        x        y\n",
       "npartitions=30                                 \n",
       "2000-01-01      int64  object  float64  float64\n",
       "2000-01-02        ...     ...      ...      ...\n",
       "...               ...     ...      ...      ...\n",
       "2000-01-30        ...     ...      ...      ...\n",
       "2000-01-31        ...     ...      ...      ...\n",
       "Dask Name: make-timeseries, 30 tasks"
      ]
     },
     "execution_count": 4,
     "metadata": {},
     "output_type": "execute_result"
    }
   ],
   "source": [
    "import dask\n",
    "df = dask.datasets.timeseries()\n",
    "df"
   ]
  },
  {
   "cell_type": "code",
   "execution_count": 5,
   "metadata": {
    "execution": {
     "iopub.execute_input": "2021-01-27T16:14:58.384522Z",
     "iopub.status.busy": "2021-01-27T16:14:58.383605Z",
     "iopub.status.idle": "2021-01-27T16:14:58.391688Z",
     "shell.execute_reply": "2021-01-27T16:14:58.392465Z"
    }
   },
   "outputs": [],
   "source": [
    "df = df.persist()             # persist is non-blocking, so it's ok"
   ]
  },
  {
   "cell_type": "code",
   "execution_count": 6,
   "metadata": {
    "execution": {
     "iopub.execute_input": "2021-01-27T16:14:58.395390Z",
     "iopub.status.busy": "2021-01-27T16:14:58.394377Z",
     "iopub.status.idle": "2021-01-27T16:14:58.402281Z",
     "shell.execute_reply": "2021-01-27T16:14:58.402996Z"
    }
   },
   "outputs": [],
   "source": [
    "total = df[['x', 'y']].sum()  # lazy computations are also ok"
   ]
  },
  {
   "cell_type": "code",
   "execution_count": 7,
   "metadata": {
    "execution": {
     "iopub.execute_input": "2021-01-27T16:14:58.406731Z",
     "iopub.status.busy": "2021-01-27T16:14:58.405809Z",
     "iopub.status.idle": "2021-01-27T16:14:58.409174Z",
     "shell.execute_reply": "2021-01-27T16:14:58.409807Z"
    }
   },
   "outputs": [],
   "source": [
    "# total.compute()             # but compute is bad, because compute blocks until done"
   ]
  },
  {
   "cell_type": "code",
   "execution_count": 8,
   "metadata": {
    "execution": {
     "iopub.execute_input": "2021-01-27T16:14:58.412542Z",
     "iopub.status.busy": "2021-01-27T16:14:58.411651Z",
     "iopub.status.idle": "2021-01-27T16:14:58.421831Z",
     "shell.execute_reply": "2021-01-27T16:14:58.422456Z"
    }
   },
   "outputs": [
    {
     "data": {
      "text/html": [
       "<b>Future: finalize</b> <font color=\"gray\">status: </font><font color=\"black\">pending</font>, <font color=\"gray\">key: </font>finalize-4bd3470610fae44c94e294785bac2278"
      ],
      "text/plain": [
       "<Future: pending, key: finalize-4bd3470610fae44c94e294785bac2278>"
      ]
     },
     "execution_count": 8,
     "metadata": {},
     "output_type": "execute_result"
    }
   ],
   "source": [
    "future = client.compute(total)\n",
    "future"
   ]
  },
  {
   "cell_type": "code",
   "execution_count": 9,
   "metadata": {
    "execution": {
     "iopub.execute_input": "2021-01-27T16:14:58.427498Z",
     "iopub.status.busy": "2021-01-27T16:14:58.426581Z",
     "iopub.status.idle": "2021-01-27T16:14:59.718625Z",
     "shell.execute_reply": "2021-01-27T16:14:59.717054Z"
    }
   },
   "outputs": [
    {
     "data": {
      "text/plain": [
       "x     701.219530\n",
       "y   -1233.710317\n",
       "dtype: float64"
      ]
     },
     "execution_count": 9,
     "metadata": {},
     "output_type": "execute_result"
    }
   ],
   "source": [
    "await future"
   ]
  },
  {
   "cell_type": "markdown",
   "metadata": {},
   "source": [
    "Within a script\n",
    "---------------\n",
    "\n",
    "Running async/await code in Jupyter is a bit atypical.  Jupyter already has an event loop running, so it's easy to use async/await syntax directly within it.  In a normal Python script this won't be the case.  Here is an example script that should run within a normal Python interpreter or as a script.\n",
    "\n",
    "```python\n",
    "import asyncio\n",
    "from dask.distributed import Client\n",
    "\n",
    "\n",
    "def inc(x: int) -> int:\n",
    "    return x + 1\n",
    "\n",
    "\n",
    "async def f():\n",
    "    async with Client(asynchronous=True) as client:\n",
    "        future = client.submit(inc, 10)\n",
    "        result = await future\n",
    "        print(result)\n",
    "\n",
    "\n",
    "if __name__ == '__main__':\n",
    "    asyncio.get_event_loop().run_until_complete(f())\n",
    "```"
   ]
  },
  {
   "cell_type": "code",
   "execution_count": null,
   "metadata": {},
   "outputs": [],
   "source": []
  }
 ],
 "metadata": {
  "kernelspec": {
   "display_name": "Python 3",
   "language": "python",
   "name": "python3"
  },
  "language_info": {
   "codemirror_mode": {
    "name": "ipython",
    "version": 3
   },
   "file_extension": ".py",
   "mimetype": "text/x-python",
   "name": "python",
   "nbconvert_exporter": "python",
   "pygments_lexer": "ipython3",
   "version": "3.8.6"
  }
 },
 "nbformat": 4,
 "nbformat_minor": 4
}
