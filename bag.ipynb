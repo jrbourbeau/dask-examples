{
 "cells": [
  {
   "cell_type": "markdown",
   "metadata": {},
   "source": [
    "# Dask Bags\n",
    "\n",
    "\n",
    "Dask Bag implements operations like `map`, `filter`, `groupby` and aggregations on collections of Python objects. It does this in parallel and in small memory using Python iterators. It is similar to a parallel version of itertools or a Pythonic version of the PySpark RDD.\n",
    "\n",
    "Dask Bags are often used to do simple preprocessing on log files, JSON records, or other user defined Python objects.\n",
    "\n",
    "Full API documentation is available here: http://docs.dask.org/en/latest/bag-api.html"
   ]
  },
  {
   "cell_type": "markdown",
   "metadata": {},
   "source": [
    "## Start Dask Client for Dashboard\n",
    "\n",
    "Starting the Dask Client is optional.  It will provide a dashboard which \n",
    "is useful to gain insight on the computation.  \n",
    "\n",
    "The link to the dashboard will become visible when you create the client below.  We recommend having it open on one side of your screen while using your notebook on the other side.  This can take some effort to arrange your windows, but seeing them both at the same is very useful when learning."
   ]
  },
  {
   "cell_type": "code",
   "execution_count": 1,
   "metadata": {
    "execution": {
     "iopub.execute_input": "2021-01-27T16:13:56.675434Z",
     "iopub.status.busy": "2021-01-27T16:13:56.674886Z",
     "iopub.status.idle": "2021-01-27T16:13:59.436213Z",
     "shell.execute_reply": "2021-01-27T16:13:59.437036Z"
    }
   },
   "outputs": [
    {
     "name": "stderr",
     "output_type": "stream",
     "text": [
      "/usr/share/miniconda3/envs/dask-examples/lib/python3.8/site-packages/distributed/node.py:151: UserWarning: Port 8787 is already in use.\n",
      "Perhaps you already have a cluster running?\n",
      "Hosting the HTTP server on port 44301 instead\n",
      "  warnings.warn(\n"
     ]
    },
    {
     "data": {
      "text/html": [
       "<table style=\"border: 2px solid white;\">\n",
       "<tr>\n",
       "<td style=\"vertical-align: top; border: 0px solid white\">\n",
       "<h3 style=\"text-align: left;\">Client</h3>\n",
       "<ul style=\"text-align: left; list-style: none; margin: 0; padding: 0;\">\n",
       "  <li><b>Scheduler: </b>tcp://127.0.0.1:34909</li>\n",
       "  <li><b>Dashboard: </b><a href='http://127.0.0.1:44301/status' target='_blank'>http://127.0.0.1:44301/status</a></li>\n",
       "</ul>\n",
       "</td>\n",
       "<td style=\"vertical-align: top; border: 0px solid white\">\n",
       "<h3 style=\"text-align: left;\">Cluster</h3>\n",
       "<ul style=\"text-align: left; list-style:none; margin: 0; padding: 0;\">\n",
       "  <li><b>Workers: </b>4</li>\n",
       "  <li><b>Cores: </b>4</li>\n",
       "  <li><b>Memory: </b>7.29 GB</li>\n",
       "</ul>\n",
       "</td>\n",
       "</tr>\n",
       "</table>"
      ],
      "text/plain": [
       "<Client: 'tcp://127.0.0.1:34909' processes=4 threads=4, memory=7.29 GB>"
      ]
     },
     "execution_count": 1,
     "metadata": {},
     "output_type": "execute_result"
    }
   ],
   "source": [
    "from dask.distributed import Client, progress\n",
    "client = Client(n_workers=4, threads_per_worker=1)\n",
    "client"
   ]
  },
  {
   "cell_type": "markdown",
   "metadata": {},
   "source": [
    "## Create Random Data\n",
    "\n",
    "We create a random set of record data and store it to disk as many JSON files.  This will serve as our data for this notebook."
   ]
  },
  {
   "cell_type": "code",
   "execution_count": 2,
   "metadata": {
    "execution": {
     "iopub.execute_input": "2021-01-27T16:13:59.441344Z",
     "iopub.status.busy": "2021-01-27T16:13:59.439158Z",
     "iopub.status.idle": "2021-01-27T16:14:01.022947Z",
     "shell.execute_reply": "2021-01-27T16:14:01.022556Z"
    }
   },
   "outputs": [
    {
     "data": {
      "text/plain": [
       "['/home/runner/work/dask-examples/dask-examples/data/0.json',\n",
       " '/home/runner/work/dask-examples/dask-examples/data/1.json',\n",
       " '/home/runner/work/dask-examples/dask-examples/data/2.json',\n",
       " '/home/runner/work/dask-examples/dask-examples/data/3.json',\n",
       " '/home/runner/work/dask-examples/dask-examples/data/4.json',\n",
       " '/home/runner/work/dask-examples/dask-examples/data/5.json',\n",
       " '/home/runner/work/dask-examples/dask-examples/data/6.json',\n",
       " '/home/runner/work/dask-examples/dask-examples/data/7.json',\n",
       " '/home/runner/work/dask-examples/dask-examples/data/8.json',\n",
       " '/home/runner/work/dask-examples/dask-examples/data/9.json']"
      ]
     },
     "execution_count": 2,
     "metadata": {},
     "output_type": "execute_result"
    }
   ],
   "source": [
    "import dask\n",
    "import json\n",
    "import os\n",
    "\n",
    "os.makedirs('data', exist_ok=True)              # Create data/ directory\n",
    "\n",
    "b = dask.datasets.make_people()                 # Make records of people\n",
    "b.map(json.dumps).to_textfiles('data/*.json')   # Encode as JSON, write to disk"
   ]
  },
  {
   "cell_type": "markdown",
   "metadata": {},
   "source": [
    "## Read JSON data\n",
    "\n",
    "Now that we have some JSON data in a file lets take a look at it with Dask Bag and Python JSON module."
   ]
  },
  {
   "cell_type": "code",
   "execution_count": 3,
   "metadata": {
    "execution": {
     "iopub.execute_input": "2021-01-27T16:14:01.030242Z",
     "iopub.status.busy": "2021-01-27T16:14:01.025111Z",
     "iopub.status.idle": "2021-01-27T16:14:01.191163Z",
     "shell.execute_reply": "2021-01-27T16:14:01.190599Z"
    }
   },
   "outputs": [
    {
     "name": "stdout",
     "output_type": "stream",
     "text": [
      "{\"age\": 40, \"name\": [\"Buck\", \"Good\"], \"occupation\": \"Purchase Clerk\", \"telephone\": \"1-947-617-2465\", \"address\": {\"address\": \"788 Lurmont Circle\", \"city\": \"Huntersville\"}, \"credit-card\": {\"number\": \"4323 1560 2676 9036\", \"expiration-date\": \"12/22\"}}\r\n",
      "{\"age\": 40, \"name\": [\"Kiley\", \"Watts\"], \"occupation\": \"Local Government\", \"telephone\": \"(533) 723-1471\", \"address\": {\"address\": \"775 Avenue B Expressway\", \"city\": \"Lynwood\"}, \"credit-card\": {\"number\": \"5331 0436 1855 0445\", \"expiration-date\": \"07/21\"}}\r\n"
     ]
    }
   ],
   "source": [
    "!head -n 2 data/0.json"
   ]
  },
  {
   "cell_type": "code",
   "execution_count": 4,
   "metadata": {
    "execution": {
     "iopub.execute_input": "2021-01-27T16:14:01.195424Z",
     "iopub.status.busy": "2021-01-27T16:14:01.194865Z",
     "iopub.status.idle": "2021-01-27T16:14:01.202741Z",
     "shell.execute_reply": "2021-01-27T16:14:01.203607Z"
    }
   },
   "outputs": [
    {
     "data": {
      "text/plain": [
       "dask.bag<loads, npartitions=10>"
      ]
     },
     "execution_count": 4,
     "metadata": {},
     "output_type": "execute_result"
    }
   ],
   "source": [
    "import dask.bag as db\n",
    "import json\n",
    "\n",
    "b = db.read_text('data/*.json').map(json.loads)\n",
    "b"
   ]
  },
  {
   "cell_type": "code",
   "execution_count": 5,
   "metadata": {
    "execution": {
     "iopub.execute_input": "2021-01-27T16:14:01.206743Z",
     "iopub.status.busy": "2021-01-27T16:14:01.205517Z",
     "iopub.status.idle": "2021-01-27T16:14:01.226136Z",
     "shell.execute_reply": "2021-01-27T16:14:01.225736Z"
    }
   },
   "outputs": [
    {
     "data": {
      "text/plain": [
       "({'age': 40,\n",
       "  'name': ['Buck', 'Good'],\n",
       "  'occupation': 'Purchase Clerk',\n",
       "  'telephone': '1-947-617-2465',\n",
       "  'address': {'address': '788 Lurmont Circle', 'city': 'Huntersville'},\n",
       "  'credit-card': {'number': '4323 1560 2676 9036',\n",
       "   'expiration-date': '12/22'}},\n",
       " {'age': 40,\n",
       "  'name': ['Kiley', 'Watts'],\n",
       "  'occupation': 'Local Government',\n",
       "  'telephone': '(533) 723-1471',\n",
       "  'address': {'address': '775 Avenue B Expressway', 'city': 'Lynwood'},\n",
       "  'credit-card': {'number': '5331 0436 1855 0445',\n",
       "   'expiration-date': '07/21'}})"
      ]
     },
     "execution_count": 5,
     "metadata": {},
     "output_type": "execute_result"
    }
   ],
   "source": [
    "b.take(2)"
   ]
  },
  {
   "cell_type": "markdown",
   "metadata": {},
   "source": [
    "## Map, Filter, Aggregate\n",
    "\n",
    "We can process this data by filtering out only certain records of interest, mapping functions over it to process our data, and aggregating those results to a total value."
   ]
  },
  {
   "cell_type": "code",
   "execution_count": 6,
   "metadata": {
    "execution": {
     "iopub.execute_input": "2021-01-27T16:14:01.228920Z",
     "iopub.status.busy": "2021-01-27T16:14:01.227924Z",
     "iopub.status.idle": "2021-01-27T16:14:01.274257Z",
     "shell.execute_reply": "2021-01-27T16:14:01.273823Z"
    }
   },
   "outputs": [
    {
     "data": {
      "text/plain": [
       "({'age': 40,\n",
       "  'name': ['Buck', 'Good'],\n",
       "  'occupation': 'Purchase Clerk',\n",
       "  'telephone': '1-947-617-2465',\n",
       "  'address': {'address': '788 Lurmont Circle', 'city': 'Huntersville'},\n",
       "  'credit-card': {'number': '4323 1560 2676 9036',\n",
       "   'expiration-date': '12/22'}},\n",
       " {'age': 40,\n",
       "  'name': ['Kiley', 'Watts'],\n",
       "  'occupation': 'Local Government',\n",
       "  'telephone': '(533) 723-1471',\n",
       "  'address': {'address': '775 Avenue B Expressway', 'city': 'Lynwood'},\n",
       "  'credit-card': {'number': '5331 0436 1855 0445',\n",
       "   'expiration-date': '07/21'}})"
      ]
     },
     "execution_count": 6,
     "metadata": {},
     "output_type": "execute_result"
    }
   ],
   "source": [
    "b.filter(lambda record: record['age'] > 30).take(2)  # Select only people over 30"
   ]
  },
  {
   "cell_type": "code",
   "execution_count": 7,
   "metadata": {
    "execution": {
     "iopub.execute_input": "2021-01-27T16:14:01.278890Z",
     "iopub.status.busy": "2021-01-27T16:14:01.278398Z",
     "iopub.status.idle": "2021-01-27T16:14:01.303017Z",
     "shell.execute_reply": "2021-01-27T16:14:01.302204Z"
    }
   },
   "outputs": [
    {
     "data": {
      "text/plain": [
       "('Purchase Clerk', 'Local Government')"
      ]
     },
     "execution_count": 7,
     "metadata": {},
     "output_type": "execute_result"
    }
   ],
   "source": [
    "b.map(lambda record: record['occupation']).take(2)  # Select the occupation field"
   ]
  },
  {
   "cell_type": "code",
   "execution_count": 8,
   "metadata": {
    "execution": {
     "iopub.execute_input": "2021-01-27T16:14:01.309266Z",
     "iopub.status.busy": "2021-01-27T16:14:01.308749Z",
     "iopub.status.idle": "2021-01-27T16:14:01.441669Z",
     "shell.execute_reply": "2021-01-27T16:14:01.441031Z"
    }
   },
   "outputs": [
    {
     "data": {
      "text/plain": [
       "10000"
      ]
     },
     "execution_count": 8,
     "metadata": {},
     "output_type": "execute_result"
    }
   ],
   "source": [
    "b.count().compute()  # Count total number of records"
   ]
  },
  {
   "cell_type": "markdown",
   "metadata": {},
   "source": [
    "## Chain computations\n",
    "\n",
    "It is common to do many of these steps in one pipeline, only calling `compute` or `take` at the end."
   ]
  },
  {
   "cell_type": "code",
   "execution_count": 9,
   "metadata": {
    "execution": {
     "iopub.execute_input": "2021-01-27T16:14:01.446977Z",
     "iopub.status.busy": "2021-01-27T16:14:01.446432Z",
     "iopub.status.idle": "2021-01-27T16:14:01.451266Z",
     "shell.execute_reply": "2021-01-27T16:14:01.451935Z"
    }
   },
   "outputs": [
    {
     "data": {
      "text/plain": [
       "dask.bag<topk-aggregate, npartitions=1>"
      ]
     },
     "execution_count": 9,
     "metadata": {},
     "output_type": "execute_result"
    }
   ],
   "source": [
    "result = (b.filter(lambda record: record['age'] > 30)\n",
    "           .map(lambda record: record['occupation'])\n",
    "           .frequencies(sort=True)\n",
    "           .topk(10, key=1))\n",
    "result"
   ]
  },
  {
   "cell_type": "markdown",
   "metadata": {},
   "source": [
    "As with all lazy Dask collections, we need to call `compute` to actually evaluate our result.  The `take` method used in earlier examples is also like `compute` and will also trigger computation."
   ]
  },
  {
   "cell_type": "code",
   "execution_count": 10,
   "metadata": {
    "execution": {
     "iopub.execute_input": "2021-01-27T16:14:01.458078Z",
     "iopub.status.busy": "2021-01-27T16:14:01.457584Z",
     "iopub.status.idle": "2021-01-27T16:14:01.564950Z",
     "shell.execute_reply": "2021-01-27T16:14:01.564563Z"
    }
   },
   "outputs": [
    {
     "data": {
      "text/plain": [
       "[('Plant Fitter', 15),\n",
       " ('Travel Guide Writer', 15),\n",
       " ('Party Planner', 14),\n",
       " ('Typist', 14),\n",
       " ('Hypnotist', 14),\n",
       " ('Sales Manager', 14),\n",
       " ('Transport Controller', 14),\n",
       " ('Licensee', 13),\n",
       " ('Software Consultant', 13),\n",
       " ('Operations', 13)]"
      ]
     },
     "execution_count": 10,
     "metadata": {},
     "output_type": "execute_result"
    }
   ],
   "source": [
    "result.compute()"
   ]
  },
  {
   "cell_type": "markdown",
   "metadata": {},
   "source": [
    "## Transform and Store\n",
    "\n",
    "Sometimes we want to compute aggregations as above, but sometimes we want to store results to disk for future analyses.  For that we can use methods like `to_textfiles` and `json.dumps`, or we can convert to Dask Dataframes and use their storage systems, which we'll see more of in the next section."
   ]
  },
  {
   "cell_type": "code",
   "execution_count": 11,
   "metadata": {
    "execution": {
     "iopub.execute_input": "2021-01-27T16:14:01.568533Z",
     "iopub.status.busy": "2021-01-27T16:14:01.566718Z",
     "iopub.status.idle": "2021-01-27T16:14:01.699654Z",
     "shell.execute_reply": "2021-01-27T16:14:01.699990Z"
    }
   },
   "outputs": [
    {
     "data": {
      "text/plain": [
       "['/home/runner/work/dask-examples/dask-examples/data/processed.0.json',\n",
       " '/home/runner/work/dask-examples/dask-examples/data/processed.1.json',\n",
       " '/home/runner/work/dask-examples/dask-examples/data/processed.2.json',\n",
       " '/home/runner/work/dask-examples/dask-examples/data/processed.3.json',\n",
       " '/home/runner/work/dask-examples/dask-examples/data/processed.4.json',\n",
       " '/home/runner/work/dask-examples/dask-examples/data/processed.5.json',\n",
       " '/home/runner/work/dask-examples/dask-examples/data/processed.6.json',\n",
       " '/home/runner/work/dask-examples/dask-examples/data/processed.7.json',\n",
       " '/home/runner/work/dask-examples/dask-examples/data/processed.8.json',\n",
       " '/home/runner/work/dask-examples/dask-examples/data/processed.9.json']"
      ]
     },
     "execution_count": 11,
     "metadata": {},
     "output_type": "execute_result"
    }
   ],
   "source": [
    "(b.filter(lambda record: record['age'] > 30)  # Select records of interest\n",
    "  .map(json.dumps)                            # Convert Python objects to text\n",
    "  .to_textfiles('data/processed.*.json'))     # Write to local disk"
   ]
  },
  {
   "cell_type": "markdown",
   "metadata": {},
   "source": [
    "## Convert to Dask Dataframes\n",
    "\n",
    "Dask Bags are good for reading in initial data, doing a bit of pre-processing, and then handing off to some other more efficient form like Dask Dataframes.  Dask Dataframes use Pandas internally, and so can be much faster on numeric data and also have more complex algorithms.  \n",
    "\n",
    "However, Dask Dataframes also expect data that is organized as flat columns.  It does not support nested JSON data very well (Bag is better for this).\n",
    "\n",
    "Here we make a function to flatten down our nested data structure, map that across our records, and then convert that to a Dask Dataframe."
   ]
  },
  {
   "cell_type": "code",
   "execution_count": 12,
   "metadata": {
    "execution": {
     "iopub.execute_input": "2021-01-27T16:14:01.703495Z",
     "iopub.status.busy": "2021-01-27T16:14:01.703054Z",
     "iopub.status.idle": "2021-01-27T16:14:01.720111Z",
     "shell.execute_reply": "2021-01-27T16:14:01.719719Z"
    }
   },
   "outputs": [
    {
     "data": {
      "text/plain": [
       "({'age': 40,\n",
       "  'name': ['Buck', 'Good'],\n",
       "  'occupation': 'Purchase Clerk',\n",
       "  'telephone': '1-947-617-2465',\n",
       "  'address': {'address': '788 Lurmont Circle', 'city': 'Huntersville'},\n",
       "  'credit-card': {'number': '4323 1560 2676 9036',\n",
       "   'expiration-date': '12/22'}},)"
      ]
     },
     "execution_count": 12,
     "metadata": {},
     "output_type": "execute_result"
    }
   ],
   "source": [
    "b.take(1)"
   ]
  },
  {
   "cell_type": "code",
   "execution_count": 13,
   "metadata": {
    "execution": {
     "iopub.execute_input": "2021-01-27T16:14:01.725080Z",
     "iopub.status.busy": "2021-01-27T16:14:01.724668Z",
     "iopub.status.idle": "2021-01-27T16:14:01.744686Z",
     "shell.execute_reply": "2021-01-27T16:14:01.744231Z"
    }
   },
   "outputs": [
    {
     "data": {
      "text/plain": [
       "({'age': 40,\n",
       "  'occupation': 'Purchase Clerk',\n",
       "  'telephone': '1-947-617-2465',\n",
       "  'credit-card-number': '4323 1560 2676 9036',\n",
       "  'credit-card-expiration': '12/22',\n",
       "  'name': 'Buck Good',\n",
       "  'street-address': '788 Lurmont Circle',\n",
       "  'city': 'Huntersville'},)"
      ]
     },
     "execution_count": 13,
     "metadata": {},
     "output_type": "execute_result"
    }
   ],
   "source": [
    "def flatten(record):\n",
    "    return {\n",
    "        'age': record['age'],\n",
    "        'occupation': record['occupation'],\n",
    "        'telephone': record['telephone'],\n",
    "        'credit-card-number': record['credit-card']['number'],\n",
    "        'credit-card-expiration': record['credit-card']['expiration-date'],\n",
    "        'name': ' '.join(record['name']),\n",
    "        'street-address': record['address']['address'],\n",
    "        'city': record['address']['city']   \n",
    "    }\n",
    "\n",
    "b.map(flatten).take(1)"
   ]
  },
  {
   "cell_type": "code",
   "execution_count": 14,
   "metadata": {
    "execution": {
     "iopub.execute_input": "2021-01-27T16:14:01.747736Z",
     "iopub.status.busy": "2021-01-27T16:14:01.747340Z",
     "iopub.status.idle": "2021-01-27T16:14:02.252463Z",
     "shell.execute_reply": "2021-01-27T16:14:02.252074Z"
    }
   },
   "outputs": [
    {
     "data": {
      "text/html": [
       "<div>\n",
       "<style scoped>\n",
       "    .dataframe tbody tr th:only-of-type {\n",
       "        vertical-align: middle;\n",
       "    }\n",
       "\n",
       "    .dataframe tbody tr th {\n",
       "        vertical-align: top;\n",
       "    }\n",
       "\n",
       "    .dataframe thead th {\n",
       "        text-align: right;\n",
       "    }\n",
       "</style>\n",
       "<table border=\"1\" class=\"dataframe\">\n",
       "  <thead>\n",
       "    <tr style=\"text-align: right;\">\n",
       "      <th></th>\n",
       "      <th>age</th>\n",
       "      <th>occupation</th>\n",
       "      <th>telephone</th>\n",
       "      <th>credit-card-number</th>\n",
       "      <th>credit-card-expiration</th>\n",
       "      <th>name</th>\n",
       "      <th>street-address</th>\n",
       "      <th>city</th>\n",
       "    </tr>\n",
       "  </thead>\n",
       "  <tbody>\n",
       "    <tr>\n",
       "      <th>0</th>\n",
       "      <td>40</td>\n",
       "      <td>Purchase Clerk</td>\n",
       "      <td>1-947-617-2465</td>\n",
       "      <td>4323 1560 2676 9036</td>\n",
       "      <td>12/22</td>\n",
       "      <td>Buck Good</td>\n",
       "      <td>788 Lurmont Circle</td>\n",
       "      <td>Huntersville</td>\n",
       "    </tr>\n",
       "    <tr>\n",
       "      <th>1</th>\n",
       "      <td>40</td>\n",
       "      <td>Local Government</td>\n",
       "      <td>(533) 723-1471</td>\n",
       "      <td>5331 0436 1855 0445</td>\n",
       "      <td>07/21</td>\n",
       "      <td>Kiley Watts</td>\n",
       "      <td>775 Avenue B Expressway</td>\n",
       "      <td>Lynwood</td>\n",
       "    </tr>\n",
       "    <tr>\n",
       "      <th>2</th>\n",
       "      <td>38</td>\n",
       "      <td>Publicity Manager</td>\n",
       "      <td>1-816-678-9977</td>\n",
       "      <td>2354 9584 7682 6281</td>\n",
       "      <td>10/25</td>\n",
       "      <td>Randell Newman</td>\n",
       "      <td>963 Red Leaf Arcade</td>\n",
       "      <td>Dodge City</td>\n",
       "    </tr>\n",
       "    <tr>\n",
       "      <th>3</th>\n",
       "      <td>41</td>\n",
       "      <td>Instructor</td>\n",
       "      <td>(089) 096-6524</td>\n",
       "      <td>3716 963991 23211</td>\n",
       "      <td>02/19</td>\n",
       "      <td>Despina Collier</td>\n",
       "      <td>784 Gaven Spur</td>\n",
       "      <td>Papillion</td>\n",
       "    </tr>\n",
       "    <tr>\n",
       "      <th>4</th>\n",
       "      <td>55</td>\n",
       "      <td>Ice Cream Vendor</td>\n",
       "      <td>(000) 559-5245</td>\n",
       "      <td>5569 4989 4739 0124</td>\n",
       "      <td>05/21</td>\n",
       "      <td>Candie Webster</td>\n",
       "      <td>1164 Oliver Brae</td>\n",
       "      <td>Spring Valley</td>\n",
       "    </tr>\n",
       "  </tbody>\n",
       "</table>\n",
       "</div>"
      ],
      "text/plain": [
       "   age         occupation       telephone   credit-card-number  \\\n",
       "0   40     Purchase Clerk  1-947-617-2465  4323 1560 2676 9036   \n",
       "1   40   Local Government  (533) 723-1471  5331 0436 1855 0445   \n",
       "2   38  Publicity Manager  1-816-678-9977  2354 9584 7682 6281   \n",
       "3   41         Instructor  (089) 096-6524    3716 963991 23211   \n",
       "4   55   Ice Cream Vendor  (000) 559-5245  5569 4989 4739 0124   \n",
       "\n",
       "  credit-card-expiration             name           street-address  \\\n",
       "0                  12/22        Buck Good       788 Lurmont Circle   \n",
       "1                  07/21      Kiley Watts  775 Avenue B Expressway   \n",
       "2                  10/25   Randell Newman      963 Red Leaf Arcade   \n",
       "3                  02/19  Despina Collier           784 Gaven Spur   \n",
       "4                  05/21   Candie Webster         1164 Oliver Brae   \n",
       "\n",
       "            city  \n",
       "0   Huntersville  \n",
       "1        Lynwood  \n",
       "2     Dodge City  \n",
       "3      Papillion  \n",
       "4  Spring Valley  "
      ]
     },
     "execution_count": 14,
     "metadata": {},
     "output_type": "execute_result"
    }
   ],
   "source": [
    "df = b.map(flatten).to_dataframe()\n",
    "df.head()"
   ]
  },
  {
   "cell_type": "markdown",
   "metadata": {},
   "source": [
    "We can now perform the same computation as before, but now using Pandas and Dask dataframe."
   ]
  },
  {
   "cell_type": "code",
   "execution_count": 15,
   "metadata": {
    "execution": {
     "iopub.execute_input": "2021-01-27T16:14:02.262720Z",
     "iopub.status.busy": "2021-01-27T16:14:02.262210Z",
     "iopub.status.idle": "2021-01-27T16:14:03.053654Z",
     "shell.execute_reply": "2021-01-27T16:14:03.054522Z"
    }
   },
   "outputs": [
    {
     "data": {
      "text/plain": [
       "Plant Fitter            15\n",
       "Travel Guide Writer     15\n",
       "Transport Controller    14\n",
       "Hypnotist               14\n",
       "Typist                  14\n",
       "Sales Manager           14\n",
       "Party Planner           14\n",
       "Van Driver              13\n",
       "Licensee                13\n",
       "Operations              13\n",
       "Name: occupation, dtype: int64"
      ]
     },
     "execution_count": 15,
     "metadata": {},
     "output_type": "execute_result"
    }
   ],
   "source": [
    "df[df.age > 30].occupation.value_counts().nlargest(10).compute()"
   ]
  },
  {
   "cell_type": "markdown",
   "metadata": {},
   "source": [
    "## Learn More\n",
    "\n",
    "You may be interested in the following links:\n",
    "\n",
    "-  [Dask Bag Documentation](https://docs.dask.org/en/latest/bag.html)\n",
    "-  [API Documentation](http://docs.dask.org/en/latest/bag-api.html)\n",
    "-  [dask tutorial](https://github.com/dask/dask-tutorial), notebook 02, for a more in-depth introduction."
   ]
  }
 ],
 "metadata": {
  "kernelspec": {
   "display_name": "Python 3",
   "language": "python",
   "name": "python3"
  },
  "language_info": {
   "codemirror_mode": {
    "name": "ipython",
    "version": 3
   },
   "file_extension": ".py",
   "mimetype": "text/x-python",
   "name": "python",
   "nbconvert_exporter": "python",
   "pygments_lexer": "ipython3",
   "version": "3.8.6"
  }
 },
 "nbformat": 4,
 "nbformat_minor": 2
}
