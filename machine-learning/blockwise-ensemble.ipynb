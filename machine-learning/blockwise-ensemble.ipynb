{
 "cells": [
  {
   "cell_type": "markdown",
   "metadata": {},
   "source": [
    "# Blockwise Ensemble Methods\n",
    "\n",
    "Dask-ML provides some [ensemble methods](https://ml.dask.org/modules/api.html#module-dask_ml.ensemble) that are tailored to `dask.array`'s and `dask.dataframe`'s blocked structure. The basic idea is to fit a copy of some sub-estimator to each block (or partition) of the dask Array or DataFrame. Becuase each block fits in memory, the sub-estimator only needs to handle in-memory data structures like a NumPy array or pandas DataFrame. It also will be relatively fast, since each block fits in memory and we won't need to move large amounts of data between workers on a cluster. We end up with an ensemble of models: one per block in the training dataset.\n",
    "\n",
    "At prediction time, we combine the results from all the models in the ensemble. For regression problems, this means averaging the predictions from each sub-estimator. For classification problems, each sub-estimator votes and the results are combined. See https://scikit-learn.org/stable/modules/ensemble.html#voting-classifier for details on how they can be combeind. See https://scikit-learn.org/stable/modules/ensemble.html for a general overview of why averaging ensemble methods can be useful.\n",
    "\n",
    "It's crucially important that the distribution of values in your dataset be relatively uniform across partitions. Otherwise the parameters learned on any given partition of the data will be poor for the dataset as a whole. This will be shown in detail later."
   ]
  },
  {
   "cell_type": "markdown",
   "metadata": {},
   "source": [
    "Let's randomly generate an example dataset. In practice, you would load the data from storage. We'll create a `dask.array` with 10 blocks."
   ]
  },
  {
   "cell_type": "code",
   "execution_count": 1,
   "metadata": {
    "execution": {
     "iopub.execute_input": "2021-01-27T16:28:35.774387Z",
     "iopub.status.busy": "2021-01-27T16:28:35.773841Z",
     "iopub.status.idle": "2021-01-27T16:28:39.258470Z",
     "shell.execute_reply": "2021-01-27T16:28:39.257610Z"
    }
   },
   "outputs": [
    {
     "data": {
      "text/html": [
       "<table>\n",
       "<tr>\n",
       "<td>\n",
       "<table>\n",
       "  <thead>\n",
       "    <tr><td> </td><th> Array </th><th> Chunk </th></tr>\n",
       "  </thead>\n",
       "  <tbody>\n",
       "    <tr><th> Bytes </th><td> 160.00 MB </td> <td> 16.00 MB </td></tr>\n",
       "    <tr><th> Shape </th><td> (1000000, 20) </td> <td> (100000, 20) </td></tr>\n",
       "    <tr><th> Count </th><td> 10 Tasks </td><td> 10 Chunks </td></tr>\n",
       "    <tr><th> Type </th><td> float64 </td><td> numpy.ndarray </td></tr>\n",
       "  </tbody>\n",
       "</table>\n",
       "</td>\n",
       "<td>\n",
       "<svg width=\"75\" height=\"170\" style=\"stroke:rgb(0,0,0);stroke-width:1\" >\n",
       "\n",
       "  <!-- Horizontal lines -->\n",
       "  <line x1=\"0\" y1=\"0\" x2=\"25\" y2=\"0\" style=\"stroke-width:2\" />\n",
       "  <line x1=\"0\" y1=\"12\" x2=\"25\" y2=\"12\" />\n",
       "  <line x1=\"0\" y1=\"24\" x2=\"25\" y2=\"24\" />\n",
       "  <line x1=\"0\" y1=\"36\" x2=\"25\" y2=\"36\" />\n",
       "  <line x1=\"0\" y1=\"48\" x2=\"25\" y2=\"48\" />\n",
       "  <line x1=\"0\" y1=\"60\" x2=\"25\" y2=\"60\" />\n",
       "  <line x1=\"0\" y1=\"72\" x2=\"25\" y2=\"72\" />\n",
       "  <line x1=\"0\" y1=\"84\" x2=\"25\" y2=\"84\" />\n",
       "  <line x1=\"0\" y1=\"96\" x2=\"25\" y2=\"96\" />\n",
       "  <line x1=\"0\" y1=\"108\" x2=\"25\" y2=\"108\" />\n",
       "  <line x1=\"0\" y1=\"120\" x2=\"25\" y2=\"120\" style=\"stroke-width:2\" />\n",
       "\n",
       "  <!-- Vertical lines -->\n",
       "  <line x1=\"0\" y1=\"0\" x2=\"0\" y2=\"120\" style=\"stroke-width:2\" />\n",
       "  <line x1=\"25\" y1=\"0\" x2=\"25\" y2=\"120\" style=\"stroke-width:2\" />\n",
       "\n",
       "  <!-- Colored Rectangle -->\n",
       "  <polygon points=\"0.000000,0.000000 25.412617,0.000000 25.412617,120.000000 0.000000,120.000000\" style=\"fill:#ECB172A0;stroke-width:0\"/>\n",
       "\n",
       "  <!-- Text -->\n",
       "  <text x=\"12.706308\" y=\"140.000000\" font-size=\"1.0rem\" font-weight=\"100\" text-anchor=\"middle\" >20</text>\n",
       "  <text x=\"45.412617\" y=\"60.000000\" font-size=\"1.0rem\" font-weight=\"100\" text-anchor=\"middle\" transform=\"rotate(-90,45.412617,60.000000)\">1000000</text>\n",
       "</svg>\n",
       "</td>\n",
       "</tr>\n",
       "</table>"
      ],
      "text/plain": [
       "dask.array<normal, shape=(1000000, 20), dtype=float64, chunksize=(100000, 20), chunktype=numpy.ndarray>"
      ]
     },
     "execution_count": 1,
     "metadata": {},
     "output_type": "execute_result"
    }
   ],
   "source": [
    "from distributed import Client\n",
    "import dask_ml.datasets\n",
    "import dask_ml.ensemble\n",
    "\n",
    "client = Client(n_workers=4, threads_per_worker=1)\n",
    "\n",
    "X, y = dask_ml.datasets.make_classification(n_samples=1_000_000,\n",
    "                                            n_informative=10,\n",
    "                                            shift=2, scale=2,\n",
    "                                            chunks=100_000)\n",
    "X"
   ]
  },
  {
   "cell_type": "markdown",
   "metadata": {},
   "source": [
    "## Classification\n",
    "\n",
    "The `sub-estimator` should be an instantiated scikit-learn-API compatible estimator (anything that implements the `fit` / `predict` API, including pipelines). It only needs to handle in-memory datasets. We'll use `sklearn.linear_model.RidgeClassifier`.\n",
    "\n",
    "To get the output shapes right, we require that you provide the `classes` for classification problems, either when creating the estimator or in `.fit` if the sub-estimator also requires the classes."
   ]
  },
  {
   "cell_type": "code",
   "execution_count": 2,
   "metadata": {
    "execution": {
     "iopub.execute_input": "2021-01-27T16:28:39.262898Z",
     "iopub.status.busy": "2021-01-27T16:28:39.262299Z",
     "iopub.status.idle": "2021-01-27T16:28:39.267063Z",
     "shell.execute_reply": "2021-01-27T16:28:39.267402Z"
    }
   },
   "outputs": [
    {
     "data": {
      "text/plain": [
       "BlockwiseVotingClassifier(classes=[0, 1],\n",
       "                          estimator=RidgeClassifier(random_state=0))"
      ]
     },
     "execution_count": 2,
     "metadata": {},
     "output_type": "execute_result"
    }
   ],
   "source": [
    "import sklearn.linear_model\n",
    "\n",
    "subestimator = sklearn.linear_model.RidgeClassifier(random_state=0)\n",
    "clf = dask_ml.ensemble.BlockwiseVotingClassifier(\n",
    "    subestimator,\n",
    "    classes=[0, 1]\n",
    ")\n",
    "clf"
   ]
  },
  {
   "cell_type": "markdown",
   "metadata": {},
   "source": [
    "We can train normally. This will *independently* fit a clone of `subestimator` on each partition of `X` and `y`."
   ]
  },
  {
   "cell_type": "code",
   "execution_count": 3,
   "metadata": {
    "execution": {
     "iopub.execute_input": "2021-01-27T16:28:39.273332Z",
     "iopub.status.busy": "2021-01-27T16:28:39.272494Z",
     "iopub.status.idle": "2021-01-27T16:28:42.194283Z",
     "shell.execute_reply": "2021-01-27T16:28:42.194727Z"
    }
   },
   "outputs": [],
   "source": [
    "clf.fit(X, y)"
   ]
  },
  {
   "cell_type": "markdown",
   "metadata": {},
   "source": [
    "All of the fitted estimators are available at `.estimators_`."
   ]
  },
  {
   "cell_type": "code",
   "execution_count": 4,
   "metadata": {
    "execution": {
     "iopub.execute_input": "2021-01-27T16:28:42.199539Z",
     "iopub.status.busy": "2021-01-27T16:28:42.199069Z",
     "iopub.status.idle": "2021-01-27T16:28:42.201014Z",
     "shell.execute_reply": "2021-01-27T16:28:42.201693Z"
    }
   },
   "outputs": [
    {
     "data": {
      "text/plain": [
       "[RidgeClassifier(random_state=0),\n",
       " RidgeClassifier(random_state=0),\n",
       " RidgeClassifier(random_state=0),\n",
       " RidgeClassifier(random_state=0),\n",
       " RidgeClassifier(random_state=0),\n",
       " RidgeClassifier(random_state=0),\n",
       " RidgeClassifier(random_state=0),\n",
       " RidgeClassifier(random_state=0),\n",
       " RidgeClassifier(random_state=0),\n",
       " RidgeClassifier(random_state=0)]"
      ]
     },
     "execution_count": 4,
     "metadata": {},
     "output_type": "execute_result"
    }
   ],
   "source": [
    "clf.estimators_"
   ]
  },
  {
   "cell_type": "markdown",
   "metadata": {},
   "source": [
    "These are different estimators! They've been trained on separate batches of data and have learned different parameters. We can plot the difference in the learned `coef_` of the first two models to visualize this."
   ]
  },
  {
   "cell_type": "code",
   "execution_count": 5,
   "metadata": {
    "execution": {
     "iopub.execute_input": "2021-01-27T16:28:42.206558Z",
     "iopub.status.busy": "2021-01-27T16:28:42.205965Z",
     "iopub.status.idle": "2021-01-27T16:28:42.456236Z",
     "shell.execute_reply": "2021-01-27T16:28:42.455358Z"
    }
   },
   "outputs": [],
   "source": [
    "import matplotlib.pyplot as plt\n",
    "import numpy as np"
   ]
  },
  {
   "cell_type": "code",
   "execution_count": 6,
   "metadata": {
    "execution": {
     "iopub.execute_input": "2021-01-27T16:28:42.464701Z",
     "iopub.status.busy": "2021-01-27T16:28:42.464256Z",
     "iopub.status.idle": "2021-01-27T16:28:42.586145Z",
     "shell.execute_reply": "2021-01-27T16:28:42.585705Z"
    }
   },
   "outputs": [
    {
     "data": {
      "image/png": "[encoded data removed]",
      "text/plain": [
       "<Figure size 432x288 with 1 Axes>"
      ]
     },
     "metadata": {
      "needs_background": "light"
     },
     "output_type": "display_data"
    }
   ],
   "source": [
    "a = clf.estimators_[0].coef_\n",
    "b = clf.estimators_[1].coef_\n",
    "\n",
    "fig, ax = plt.subplots()\n",
    "ax.bar(np.arange(a.shape[1]), (a - b).ravel())\n",
    "ax.set(xticks=[], xlabel=\"Feature\", title=\"Difference in Learned Coefficients\");"
   ]
  },
  {
   "cell_type": "markdown",
   "metadata": {},
   "source": [
    "That said, the assumption backing this entire process is that the distribution of the data is relatively uniform across partitions. The parameters learned by the each member of the ensemble should be relatively similar, and so will give relatively similar predictions when applied to the same data.\n",
    "\n",
    "When you `predict`, the result will have the same chunking pattern as the input array you're predicting for (which need not match the partitioning of the training data)."
   ]
  },
  {
   "cell_type": "code",
   "execution_count": 7,
   "metadata": {
    "execution": {
     "iopub.execute_input": "2021-01-27T16:28:42.595742Z",
     "iopub.status.busy": "2021-01-27T16:28:42.592648Z",
     "iopub.status.idle": "2021-01-27T16:28:42.601601Z",
     "shell.execute_reply": "2021-01-27T16:28:42.602002Z"
    }
   },
   "outputs": [
    {
     "data": {
      "text/html": [
       "<table>\n",
       "<tr>\n",
       "<td>\n",
       "<table>\n",
       "  <thead>\n",
       "    <tr><td> </td><th> Array </th><th> Chunk </th></tr>\n",
       "  </thead>\n",
       "  <tbody>\n",
       "    <tr><th> Bytes </th><td> 8.00 MB </td> <td> 800.00 kB </td></tr>\n",
       "    <tr><th> Shape </th><td> (1000000,) </td> <td> (100000,) </td></tr>\n",
       "    <tr><th> Count </th><td> 31 Tasks </td><td> 10 Chunks </td></tr>\n",
       "    <tr><th> Type </th><td> int64 </td><td> numpy.ndarray </td></tr>\n",
       "  </tbody>\n",
       "</table>\n",
       "</td>\n",
       "<td>\n",
       "<svg width=\"170\" height=\"75\" style=\"stroke:rgb(0,0,0);stroke-width:1\" >\n",
       "\n",
       "  <!-- Horizontal lines -->\n",
       "  <line x1=\"0\" y1=\"0\" x2=\"120\" y2=\"0\" style=\"stroke-width:2\" />\n",
       "  <line x1=\"0\" y1=\"25\" x2=\"120\" y2=\"25\" style=\"stroke-width:2\" />\n",
       "\n",
       "  <!-- Vertical lines -->\n",
       "  <line x1=\"0\" y1=\"0\" x2=\"0\" y2=\"25\" style=\"stroke-width:2\" />\n",
       "  <line x1=\"12\" y1=\"0\" x2=\"12\" y2=\"25\" />\n",
       "  <line x1=\"24\" y1=\"0\" x2=\"24\" y2=\"25\" />\n",
       "  <line x1=\"36\" y1=\"0\" x2=\"36\" y2=\"25\" />\n",
       "  <line x1=\"48\" y1=\"0\" x2=\"48\" y2=\"25\" />\n",
       "  <line x1=\"60\" y1=\"0\" x2=\"60\" y2=\"25\" />\n",
       "  <line x1=\"72\" y1=\"0\" x2=\"72\" y2=\"25\" />\n",
       "  <line x1=\"84\" y1=\"0\" x2=\"84\" y2=\"25\" />\n",
       "  <line x1=\"96\" y1=\"0\" x2=\"96\" y2=\"25\" />\n",
       "  <line x1=\"108\" y1=\"0\" x2=\"108\" y2=\"25\" />\n",
       "  <line x1=\"120\" y1=\"0\" x2=\"120\" y2=\"25\" style=\"stroke-width:2\" />\n",
       "\n",
       "  <!-- Colored Rectangle -->\n",
       "  <polygon points=\"0.000000,0.000000 120.000000,0.000000 120.000000,25.412617 0.000000,25.412617\" style=\"fill:#ECB172A0;stroke-width:0\"/>\n",
       "\n",
       "  <!-- Text -->\n",
       "  <text x=\"60.000000\" y=\"45.412617\" font-size=\"1.0rem\" font-weight=\"100\" text-anchor=\"middle\" >1000000</text>\n",
       "  <text x=\"140.000000\" y=\"12.706308\" font-size=\"1.0rem\" font-weight=\"100\" text-anchor=\"middle\" transform=\"rotate(0,140.000000,12.706308)\">1</text>\n",
       "</svg>\n",
       "</td>\n",
       "</tr>\n",
       "</table>"
      ],
      "text/plain": [
       "dask.array<_vote_block, shape=(1000000,), dtype=int64, chunksize=(100000,), chunktype=numpy.ndarray>"
      ]
     },
     "execution_count": 7,
     "metadata": {},
     "output_type": "execute_result"
    }
   ],
   "source": [
    "preds = clf.predict(X)\n",
    "preds"
   ]
  },
  {
   "cell_type": "markdown",
   "metadata": {},
   "source": [
    "This generates a set of tasks that\n",
    "\n",
    "1. Calls `subestimator.predict(chunk)` for each subestimator (10 in our case)\n",
    "2. Concatenates those predictions together\n",
    "3. Somehow averages the predictions to a single overall prediction\n",
    "\n",
    "We used the default `voting=\"hard\"` strategy, which means we just choose the class that had the higest number of votes. If the first two sub-estimators picked class `0` and the other eight picked class `1` for the first row, the final prediction for that row will be class `1`."
   ]
  },
  {
   "cell_type": "code",
   "execution_count": 8,
   "metadata": {
    "execution": {
     "iopub.execute_input": "2021-01-27T16:28:42.614835Z",
     "iopub.status.busy": "2021-01-27T16:28:42.604717Z",
     "iopub.status.idle": "2021-01-27T16:28:43.540064Z",
     "shell.execute_reply": "2021-01-27T16:28:43.540611Z"
    }
   },
   "outputs": [
    {
     "data": {
      "text/plain": [
       "array([0, 1, 0, 0, 1, 0, 1, 0, 0, 0])"
      ]
     },
     "execution_count": 8,
     "metadata": {},
     "output_type": "execute_result"
    }
   ],
   "source": [
    "preds[:10].compute()"
   ]
  },
  {
   "cell_type": "markdown",
   "metadata": {},
   "source": [
    "With `voting=\"soft\"` we have access to `predict_proba`, as long as the subestimator has a `predict_proba` method. These subestimators should be well-calibrated for the predictions to be meaningful. See [probability calibration](https://scikit-learn.org/stable/modules/calibration.html#calibration) for more."
   ]
  },
  {
   "cell_type": "code",
   "execution_count": 9,
   "metadata": {
    "execution": {
     "iopub.execute_input": "2021-01-27T16:28:43.554456Z",
     "iopub.status.busy": "2021-01-27T16:28:43.547309Z",
     "iopub.status.idle": "2021-01-27T16:28:46.648185Z",
     "shell.execute_reply": "2021-01-27T16:28:46.647310Z"
    }
   },
   "outputs": [],
   "source": [
    "subestimator = sklearn.linear_model.LogisticRegression(random_state=0)\n",
    "clf = dask_ml.ensemble.BlockwiseVotingClassifier(\n",
    "    subestimator,\n",
    "    classes=[0, 1],\n",
    "    voting=\"soft\"\n",
    ")\n",
    "clf.fit(X, y)"
   ]
  },
  {
   "cell_type": "code",
   "execution_count": 10,
   "metadata": {
    "execution": {
     "iopub.execute_input": "2021-01-27T16:28:46.655590Z",
     "iopub.status.busy": "2021-01-27T16:28:46.655116Z",
     "iopub.status.idle": "2021-01-27T16:28:46.833225Z",
     "shell.execute_reply": "2021-01-27T16:28:46.832619Z"
    }
   },
   "outputs": [
    {
     "data": {
      "text/plain": [
       "array([[5.83498204e-01, 4.16501796e-01],\n",
       "       [4.57816449e-01, 5.42183551e-01],\n",
       "       [8.44659847e-01, 1.55340153e-01],\n",
       "       [9.96869293e-01, 3.13070743e-03],\n",
       "       [6.37402284e-04, 9.99362598e-01]])"
      ]
     },
     "execution_count": 10,
     "metadata": {},
     "output_type": "execute_result"
    }
   ],
   "source": [
    "proba = clf.predict_proba(X)\n",
    "proba[:5].compute()"
   ]
  },
  {
   "cell_type": "markdown",
   "metadata": {},
   "source": [
    "The stages here are similar to the `voting=\"hard\"` case. Only now instead of taking the majority vote we average the probabilities predicted by each sub-estimator."
   ]
  },
  {
   "cell_type": "markdown",
   "metadata": {},
   "source": [
    "## Regression\n",
    "\n",
    "Regression is quite similar. The primary difference is that there's no voting; predictions from estimators are always reduced by averaging."
   ]
  },
  {
   "cell_type": "code",
   "execution_count": 11,
   "metadata": {
    "execution": {
     "iopub.execute_input": "2021-01-27T16:28:46.835383Z",
     "iopub.status.busy": "2021-01-27T16:28:46.834920Z",
     "iopub.status.idle": "2021-01-27T16:28:46.976990Z",
     "shell.execute_reply": "2021-01-27T16:28:46.977579Z"
    }
   },
   "outputs": [
    {
     "data": {
      "text/html": [
       "<table>\n",
       "<tr>\n",
       "<td>\n",
       "<table>\n",
       "  <thead>\n",
       "    <tr><td> </td><th> Array </th><th> Chunk </th></tr>\n",
       "  </thead>\n",
       "  <tbody>\n",
       "    <tr><th> Bytes </th><td> 160.00 MB </td> <td> 16.00 MB </td></tr>\n",
       "    <tr><th> Shape </th><td> (1000000, 20) </td> <td> (100000, 20) </td></tr>\n",
       "    <tr><th> Count </th><td> 10 Tasks </td><td> 10 Chunks </td></tr>\n",
       "    <tr><th> Type </th><td> float64 </td><td> numpy.ndarray </td></tr>\n",
       "  </tbody>\n",
       "</table>\n",
       "</td>\n",
       "<td>\n",
       "<svg width=\"75\" height=\"170\" style=\"stroke:rgb(0,0,0);stroke-width:1\" >\n",
       "\n",
       "  <!-- Horizontal lines -->\n",
       "  <line x1=\"0\" y1=\"0\" x2=\"25\" y2=\"0\" style=\"stroke-width:2\" />\n",
       "  <line x1=\"0\" y1=\"12\" x2=\"25\" y2=\"12\" />\n",
       "  <line x1=\"0\" y1=\"24\" x2=\"25\" y2=\"24\" />\n",
       "  <line x1=\"0\" y1=\"36\" x2=\"25\" y2=\"36\" />\n",
       "  <line x1=\"0\" y1=\"48\" x2=\"25\" y2=\"48\" />\n",
       "  <line x1=\"0\" y1=\"60\" x2=\"25\" y2=\"60\" />\n",
       "  <line x1=\"0\" y1=\"72\" x2=\"25\" y2=\"72\" />\n",
       "  <line x1=\"0\" y1=\"84\" x2=\"25\" y2=\"84\" />\n",
       "  <line x1=\"0\" y1=\"96\" x2=\"25\" y2=\"96\" />\n",
       "  <line x1=\"0\" y1=\"108\" x2=\"25\" y2=\"108\" />\n",
       "  <line x1=\"0\" y1=\"120\" x2=\"25\" y2=\"120\" style=\"stroke-width:2\" />\n",
       "\n",
       "  <!-- Vertical lines -->\n",
       "  <line x1=\"0\" y1=\"0\" x2=\"0\" y2=\"120\" style=\"stroke-width:2\" />\n",
       "  <line x1=\"25\" y1=\"0\" x2=\"25\" y2=\"120\" style=\"stroke-width:2\" />\n",
       "\n",
       "  <!-- Colored Rectangle -->\n",
       "  <polygon points=\"0.000000,0.000000 25.412617,0.000000 25.412617,120.000000 0.000000,120.000000\" style=\"fill:#ECB172A0;stroke-width:0\"/>\n",
       "\n",
       "  <!-- Text -->\n",
       "  <text x=\"12.706308\" y=\"140.000000\" font-size=\"1.0rem\" font-weight=\"100\" text-anchor=\"middle\" >20</text>\n",
       "  <text x=\"45.412617\" y=\"60.000000\" font-size=\"1.0rem\" font-weight=\"100\" text-anchor=\"middle\" transform=\"rotate(-90,45.412617,60.000000)\">1000000</text>\n",
       "</svg>\n",
       "</td>\n",
       "</tr>\n",
       "</table>"
      ],
      "text/plain": [
       "dask.array<normal, shape=(1000000, 20), dtype=float64, chunksize=(100000, 20), chunktype=numpy.ndarray>"
      ]
     },
     "execution_count": 11,
     "metadata": {},
     "output_type": "execute_result"
    }
   ],
   "source": [
    "X, y = dask_ml.datasets.make_regression(n_samples=1_000_000,\n",
    "                                        chunks=100_000,\n",
    "                                        n_features=20)\n",
    "X"
   ]
  },
  {
   "cell_type": "code",
   "execution_count": 12,
   "metadata": {
    "execution": {
     "iopub.execute_input": "2021-01-27T16:28:46.979767Z",
     "iopub.status.busy": "2021-01-27T16:28:46.979338Z",
     "iopub.status.idle": "2021-01-27T16:28:48.831524Z",
     "shell.execute_reply": "2021-01-27T16:28:48.831089Z"
    }
   },
   "outputs": [],
   "source": [
    "subestimator = sklearn.linear_model.LinearRegression()\n",
    "clf = dask_ml.ensemble.BlockwiseVotingRegressor(\n",
    "    subestimator,\n",
    ")\n",
    "clf.fit(X, y)"
   ]
  },
  {
   "cell_type": "code",
   "execution_count": 13,
   "metadata": {
    "execution": {
     "iopub.execute_input": "2021-01-27T16:28:48.836533Z",
     "iopub.status.busy": "2021-01-27T16:28:48.836018Z",
     "iopub.status.idle": "2021-01-27T16:28:48.976722Z",
     "shell.execute_reply": "2021-01-27T16:28:48.977102Z"
    }
   },
   "outputs": [
    {
     "data": {
      "text/plain": [
       "array([ 314.72734034,   38.44908767,  135.79434339, -236.88483789,\n",
       "       -154.64697284])"
      ]
     },
     "execution_count": 13,
     "metadata": {},
     "output_type": "execute_result"
    }
   ],
   "source": [
    "clf.predict(X)[:5].compute()"
   ]
  },
  {
   "cell_type": "markdown",
   "metadata": {},
   "source": [
    "As usual with Dask-ML, scoring is done in parallel (and distributed on a cluster if you're connected to one)."
   ]
  },
  {
   "cell_type": "code",
   "execution_count": 14,
   "metadata": {
    "execution": {
     "iopub.execute_input": "2021-01-27T16:28:48.986064Z",
     "iopub.status.busy": "2021-01-27T16:28:48.985539Z",
     "iopub.status.idle": "2021-01-27T16:28:50.803449Z",
     "shell.execute_reply": "2021-01-27T16:28:50.804017Z"
    }
   },
   "outputs": [
    {
     "data": {
      "text/plain": [
       "1.0"
      ]
     },
     "execution_count": 14,
     "metadata": {},
     "output_type": "execute_result"
    }
   ],
   "source": [
    "clf.score(X, y)"
   ]
  },
  {
   "cell_type": "markdown",
   "metadata": {},
   "source": [
    "## The dangers of non-uniformly distributed data"
   ]
  },
  {
   "cell_type": "markdown",
   "metadata": {},
   "source": [
    "Finally, it must be re-emphasized that your data should be uniformly distributed across partitoins prior to using these ensemble methods. If it's not, then you're better off just sampling rows from each partition and fitting a single classifer to it. By \"uniform\" we don't mean \"from a uniform probabillity distribution\". Just that there shouldn't be a clear per-partition pattern to how the data is distributed.\n",
    "\n",
    "Let's demonstrate that with an example. We'll generate a dataset with a clear trend across partitions. This might represent some non-stationary time-series, though it can occur in other contexts as well (e.g. on data partitioned by geography, age, etc.)"
   ]
  },
  {
   "cell_type": "code",
   "execution_count": 15,
   "metadata": {
    "execution": {
     "iopub.execute_input": "2021-01-27T16:28:50.807385Z",
     "iopub.status.busy": "2021-01-27T16:28:50.806989Z",
     "iopub.status.idle": "2021-01-27T16:28:50.809703Z",
     "shell.execute_reply": "2021-01-27T16:28:50.810215Z"
    }
   },
   "outputs": [],
   "source": [
    "import dask.array as da\n",
    "import dask.delayed\n",
    "import sklearn.datasets"
   ]
  },
  {
   "cell_type": "code",
   "execution_count": 16,
   "metadata": {
    "execution": {
     "iopub.execute_input": "2021-01-27T16:28:50.813686Z",
     "iopub.status.busy": "2021-01-27T16:28:50.813222Z",
     "iopub.status.idle": "2021-01-27T16:28:50.816327Z",
     "shell.execute_reply": "2021-01-27T16:28:50.815844Z"
    }
   },
   "outputs": [],
   "source": [
    "def clone_and_shift(X, y, i):\n",
    "    X = X.copy()\n",
    "    X += i + np.random.random(X.shape)\n",
    "    y += 25 * (i + np.random.random(y.shape))\n",
    "    return X, y"
   ]
  },
  {
   "cell_type": "code",
   "execution_count": 17,
   "metadata": {
    "execution": {
     "iopub.execute_input": "2021-01-27T16:28:50.820651Z",
     "iopub.status.busy": "2021-01-27T16:28:50.820180Z",
     "iopub.status.idle": "2021-01-27T16:28:50.828731Z",
     "shell.execute_reply": "2021-01-27T16:28:50.828323Z"
    }
   },
   "outputs": [],
   "source": [
    "# Make a base dataset that we'll clone and shift\n",
    "X, y = sklearn.datasets.make_regression(n_features=4, bias=2, random_state=0)\n",
    "\n",
    "# Clone and shift 10 times, gradually increasing X and y for each partition\n",
    "Xs, ys = zip(*[dask.delayed(clone_and_shift, nout=2)(X, y, i) for i in range(10)])\n",
    "Xs = [da.from_delayed(x, shape=X.shape, dtype=X.dtype) for x in Xs]\n",
    "ys = [da.from_delayed(y_, shape=y.shape, dtype=y.dtype) for y_ in ys]\n",
    "X2 = da.concatenate(Xs)\n",
    "y2 = da.concatenate(ys)"
   ]
  },
  {
   "cell_type": "markdown",
   "metadata": {},
   "source": [
    "Let's plot a sample of points, coloring by which partition the data came from."
   ]
  },
  {
   "cell_type": "code",
   "execution_count": 18,
   "metadata": {
    "execution": {
     "iopub.execute_input": "2021-01-27T16:28:50.832645Z",
     "iopub.status.busy": "2021-01-27T16:28:50.830264Z",
     "iopub.status.idle": "2021-01-27T16:28:51.049372Z",
     "shell.execute_reply": "2021-01-27T16:28:51.049790Z"
    }
   },
   "outputs": [
    {
     "data": {
      "image/png": "[encoded data removed]",
      "text/plain": [
       "<Figure size 432x288 with 1 Axes>"
      ]
     },
     "metadata": {
      "needs_background": "light"
     },
     "output_type": "display_data"
    }
   ],
   "source": [
    "fig, ax = plt.subplots()\n",
    "ax.scatter(X2[::5, 0], y2[::5], c=np.arange(0, len(X2), 5) // 100, cmap=\"Set1\",\n",
    "           label=\"Partition\")\n",
    "ax.set(xlabel=\"Feature 0\", ylabel=\"target\", title=\"Non-stationary data (by partition)\");"
   ]
  },
  {
   "cell_type": "markdown",
   "metadata": {},
   "source": [
    "Now let's fit two estimators:\n",
    "\n",
    "1. One `BlockwiseVotingRegressor` on the entire dataset (which fits a `LinearRegression` on each partition)\n",
    "2. One `LinearRegression` on a sample from the entire dataset"
   ]
  },
  {
   "cell_type": "code",
   "execution_count": 19,
   "metadata": {
    "execution": {
     "iopub.execute_input": "2021-01-27T16:28:51.056242Z",
     "iopub.status.busy": "2021-01-27T16:28:51.055736Z",
     "iopub.status.idle": "2021-01-27T16:28:51.159895Z",
     "shell.execute_reply": "2021-01-27T16:28:51.159443Z"
    }
   },
   "outputs": [],
   "source": [
    "subestimator = sklearn.linear_model.LinearRegression()\n",
    "clf = dask_ml.ensemble.BlockwiseVotingRegressor(\n",
    "    subestimator,\n",
    ")\n",
    "clf.fit(X2, y2)"
   ]
  },
  {
   "cell_type": "code",
   "execution_count": 20,
   "metadata": {
    "execution": {
     "iopub.execute_input": "2021-01-27T16:28:51.168129Z",
     "iopub.status.busy": "2021-01-27T16:28:51.167680Z",
     "iopub.status.idle": "2021-01-27T16:28:51.221319Z",
     "shell.execute_reply": "2021-01-27T16:28:51.220863Z"
    }
   },
   "outputs": [
    {
     "data": {
      "text/plain": [
       "LinearRegression()"
      ]
     },
     "execution_count": 20,
     "metadata": {},
     "output_type": "execute_result"
    }
   ],
   "source": [
    "X_sampled, y_sampled = dask.compute(X2[::10], y2[::10])\n",
    "\n",
    "subestimator.fit(X_sampled, y_sampled)"
   ]
  },
  {
   "cell_type": "markdown",
   "metadata": {},
   "source": [
    "Comparing the scores, we find that the sampled dataset performs much better, despite training on less data."
   ]
  },
  {
   "cell_type": "code",
   "execution_count": 21,
   "metadata": {
    "execution": {
     "iopub.execute_input": "2021-01-27T16:28:51.257089Z",
     "iopub.status.busy": "2021-01-27T16:28:51.245483Z",
     "iopub.status.idle": "2021-01-27T16:28:51.513120Z",
     "shell.execute_reply": "2021-01-27T16:28:51.512697Z"
    }
   },
   "outputs": [
    {
     "data": {
      "text/plain": [
       "-11.218001236023145"
      ]
     },
     "execution_count": 21,
     "metadata": {},
     "output_type": "execute_result"
    }
   ],
   "source": [
    "clf.score(X2, y2)"
   ]
  },
  {
   "cell_type": "code",
   "execution_count": 22,
   "metadata": {
    "execution": {
     "iopub.execute_input": "2021-01-27T16:28:51.518206Z",
     "iopub.status.busy": "2021-01-27T16:28:51.517770Z",
     "iopub.status.idle": "2021-01-27T16:28:51.598599Z",
     "shell.execute_reply": "2021-01-27T16:28:51.598230Z"
    }
   },
   "outputs": [
    {
     "data": {
      "text/plain": [
       "0.11617745524098999"
      ]
     },
     "execution_count": 22,
     "metadata": {},
     "output_type": "execute_result"
    }
   ],
   "source": [
    "subestimator.score(X2, y2)"
   ]
  },
  {
   "cell_type": "markdown",
   "metadata": {},
   "source": [
    "This shows that ensuring your needs to be relatively uniform across partitions. Even including the standard controls to normalize whatever underlying force is generating the non-stationary data (e.g. a time trend compontent or differencing timeseries data, dummy variables for geographic regions, etc) is not sufficient when your dataset is partioned by the non-uniform variable. You would still need to either shuffle your data prior to fitting, or just sample and fit the sub-estimator on the sub-sample that fits in memory."
   ]
  }
 ],
 "metadata": {
  "kernelspec": {
   "display_name": "Python 3",
   "language": "python",
   "name": "python3"
  },
  "language_info": {
   "codemirror_mode": {
    "name": "ipython",
    "version": 3
   },
   "file_extension": ".py",
   "mimetype": "text/x-python",
   "name": "python",
   "nbconvert_exporter": "python",
   "pygments_lexer": "ipython3",
   "version": "3.8.6"
  }
 },
 "nbformat": 4,
 "nbformat_minor": 2
}
